{
  "nbformat": 4,
  "nbformat_minor": 0,
  "metadata": {
    "colab": {
      "provenance": [],
      "gpuType": "V100"
    },
    "kernelspec": {
      "name": "python3",
      "display_name": "Python 3"
    },
    "language_info": {
      "name": "python"
    },
    "accelerator": "GPU"
  },
  "cells": [
    {
      "cell_type": "markdown",
      "source": [
        "# This notebook is used for evaluating the stability of a specific docked pose. Please provide two files in amber formats, i): *.crd, or *.rst7; ii) *.prmtop, or *.prm7\n",
        "\n"
      ],
      "metadata": {
        "id": "31j7vxJcW73K"
      }
    },
    {
      "cell_type": "code",
      "execution_count": 1,
      "metadata": {
        "colab": {
          "base_uri": "https://localhost:8080/"
        },
        "cellView": "form",
        "id": "jdKywYTKBsQw",
        "outputId": "1e708a50-3e30-423a-d2f1-502ffe473be3"
      },
      "outputs": [
        {
          "output_type": "stream",
          "name": "stdout",
          "text": [
            "⏬ Downloading https://github.com/conda-forge/miniforge/releases/download/23.11.0-0/Mambaforge-23.11.0-0-Linux-x86_64.sh...\n",
            "📦 Installing...\n",
            "📌 Adjusting configuration...\n",
            "🩹 Patching environment...\n",
            "⏲ Done in 0:00:09\n",
            "🔁 Restarting kernel...\n"
          ]
        }
      ],
      "source": [
        "#@title **Install Conda Colab**\n",
        "#@markdown It will restart the kernel (session), don't worry.\n",
        "!pip install -q condacolab\n",
        "import condacolab\n",
        "condacolab.install()"
      ]
    },
    {
      "cell_type": "code",
      "source": [
        "#@title ### **Import Google Drive**\n",
        "#@markdown Click in the \"Run\" buttom to make your Google Drive accessible.\n",
        "from google.colab import drive\n",
        "\n",
        "drive.mount('/content/drive', force_remount=True)"
      ],
      "metadata": {
        "cellView": "form",
        "colab": {
          "base_uri": "https://localhost:8080/"
        },
        "id": "iYqjC-rwXbOj",
        "outputId": "457dee82-1156-4e1e-edcf-83f380644493"
      },
      "execution_count": 9,
      "outputs": [
        {
          "output_type": "stream",
          "name": "stdout",
          "text": [
            "Mounted at /content/drive\n"
          ]
        }
      ]
    },
    {
      "cell_type": "code",
      "source": [
        "#@title **Install dependencies**\n",
        "#@markdown It will take a few minutes, please, drink a coffee and wait. ;-)\n",
        "# install dependencies\n",
        "%%capture\n",
        "import sys\n",
        "import tarfile\n",
        "import os\n",
        "import subprocess\n",
        "import sys\n",
        "commands = [\n",
        "    \"rm -rf /usr/local/conda-meta/pinned\",\n",
        "    \"mamba install openmm=7.7.0 -y\",\n",
        "    \"mamba install -c conda-forge mdanalysis -y\",\n",
        "    \"mamba install -c conda-forge parmed -y\",\n",
        "    \"conda install -c conda-forge mdtraj -y\",\n",
        "]\n",
        "\n",
        "for cmd in commands:\n",
        "    subprocess.run(cmd, shell=True)\n",
        "\n",
        "\n"
      ],
      "metadata": {
        "cellView": "form",
        "id": "nCzKkB3uF_3-"
      },
      "execution_count": 1,
      "outputs": []
    },
    {
      "cell_type": "code",
      "source": [
        "#load dependencies\n",
        "from openmm import app, unit\n",
        "from openmm.app import HBonds, NoCutoff, PDBFile\n",
        "import parmed as pmd\n",
        "import openmm as mm\n",
        "from openmm import *\n",
        "from openmm.app import *\n",
        "from openmm.unit import *\n",
        "import urllib.request\n",
        "import MDAnalysis as mda\n",
        "import platform\n",
        "from scipy.spatial.distance import squareform\n",
        "import scipy.stats as stats\n",
        "import matplotlib.pyplot as plt\n",
        "import pandas as pd\n",
        "from scipy.interpolate import griddata\n",
        "import seaborn as sb\n",
        "from statistics import mean, stdev\n",
        "from matplotlib import colors\n",
        "from IPython.display import set_matplotlib_formats"
      ],
      "metadata": {
        "id": "8kybebjRF_7H"
      },
      "execution_count": 2,
      "outputs": []
    },
    {
      "cell_type": "code",
      "source": [
        "%cd /content/drive/MyDrive/"
      ],
      "metadata": {
        "colab": {
          "base_uri": "https://localhost:8080/"
        },
        "id": "paD3XzDUY6I_",
        "outputId": "5e3bb897-6ae5-4543-8bde-f5fca25055b8"
      },
      "execution_count": 10,
      "outputs": [
        {
          "output_type": "stream",
          "name": "stdout",
          "text": [
            "/content/drive/MyDrive/chapter3_nightly_built/20240411\n"
          ]
        }
      ]
    },
    {
      "cell_type": "code",
      "source": [
        "!git clone https://github.com/Gervasiolab/OpenBPMD.git"
      ],
      "metadata": {
        "colab": {
          "base_uri": "https://localhost:8080/"
        },
        "id": "El6gYOt7F_96",
        "outputId": "66e24f70-cbcd-4227-b50c-ba064b6c2865"
      },
      "execution_count": 11,
      "outputs": [
        {
          "output_type": "stream",
          "name": "stdout",
          "text": [
            "Cloning into 'OpenBPMD'...\n",
            "remote: Enumerating objects: 118, done.\u001b[K\n",
            "remote: Counting objects: 100% (118/118), done.\u001b[K\n",
            "remote: Compressing objects: 100% (74/74), done.\u001b[K\n",
            "remote: Total 118 (delta 33), reused 97 (delta 23), pack-reused 0\u001b[K\n",
            "Receiving objects: 100% (118/118), 11.02 MiB | 12.25 MiB/s, done.\n",
            "Resolving deltas: 100% (33/33), done.\n"
          ]
        }
      ]
    },
    {
      "cell_type": "code",
      "source": [
        "%cd OpenBPMD"
      ],
      "metadata": {
        "colab": {
          "base_uri": "https://localhost:8080/"
        },
        "id": "k_tPQovkGAC2",
        "outputId": "e345aa33-76b1-4df5-c98e-8bc92e31b66b"
      },
      "execution_count": 14,
      "outputs": [
        {
          "output_type": "stream",
          "name": "stdout",
          "text": [
            "/content/drive/MyDrive/chapter3_nightly_built/20240411/OpenBPMD\n"
          ]
        }
      ]
    },
    {
      "cell_type": "code",
      "source": [
        "!ls"
      ],
      "metadata": {
        "colab": {
          "base_uri": "https://localhost:8080/"
        },
        "id": "PXuOzeO8ZJyl",
        "outputId": "3b6352c7-ed78-4576-ef9a-ac3e0e53e6c3"
      },
      "execution_count": 15,
      "outputs": [
        {
          "output_type": "stream",
          "name": "stdout",
          "text": [
            "examples  LICENSE  openbpmd.py\tREADME.md  SYS_gaff2.crd  SYS_gaff2.prmtop  tests\n"
          ]
        }
      ]
    },
    {
      "cell_type": "markdown",
      "source": [
        "Here, the Ligand name in the topology is LIG, it maybe different in your case, please change it."
      ],
      "metadata": {
        "id": "Vor24qBFbAN-"
      }
    },
    {
      "cell_type": "code",
      "source": [
        "!python openbpmd.py -s SYS_gaff2.crd -p SYS_gaff2.prmtop -o ligand0_pose0 -lig_resname LIG -nreps 2"
      ],
      "metadata": {
        "colab": {
          "base_uri": "https://localhost:8080/"
        },
        "id": "LkcM8FvAGAFG",
        "outputId": "fa55a5c1-5f45-4fa0-a955-23a822c1b2dd"
      },
      "execution_count": null,
      "outputs": [
        {
          "output_type": "stream",
          "name": "stdout",
          "text": [
            "Warning: importing 'simtk.openmm' is deprecated.  Import 'openmm' instead.\n",
            "Minimizing...\n",
            "Equilibrating...\n",
            "/usr/local/lib/python3.10/site-packages/MDAnalysis/core/universe.py:658: UserWarning: Reader has no dt information, set to 1.0 ps\n",
            "  dt=self.trajectory.ts.dt * step,\n"
          ]
        }
      ]
    }
  ]
}