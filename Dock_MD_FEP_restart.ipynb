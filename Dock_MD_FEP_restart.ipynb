{
  "nbformat": 4,
  "nbformat_minor": 0,
  "metadata": {
    "colab": {
      "private_outputs": true,
      "provenance": [],
      "authorship_tag": "ABX9TyPLGE2X4nNuoVEVF/XFBpfL",
      "include_colab_link": true
    },
    "kernelspec": {
      "name": "python3",
      "display_name": "Python 3"
    },
    "language_info": {
      "name": "python"
    }
  },
  "cells": [
    {
      "cell_type": "markdown",
      "metadata": {
        "id": "view-in-github",
        "colab_type": "text"
      },
      "source": [
        "<a href=\"https://colab.research.google.com/github/quantaosun/Dock-MD-FEP/blob/main/Dock_MD_FEP_restart.ipynb\" target=\"_parent\"><img src=\"https://colab.research.google.com/assets/colab-badge.svg\" alt=\"Open In Colab\"/></a>"
      ]
    },
    {
      "cell_type": "code",
      "metadata": {
        "id": "Lm7Akepv_vl-",
        "cellView": "form"
      },
      "source": [
        "#@title ### **Import Google Drive**\n",
        "#@markdown Click in the \"Run\" buttom to make your Google Drive accessible.\n",
        "from google.colab import drive\n",
        "\n",
        "drive.flush_and_unmount()\n",
        "drive.mount('/content/drive', force_remount=True)"
      ],
      "execution_count": null,
      "outputs": []
    },
    {
      "cell_type": "code",
      "metadata": {
        "id": "wH1oMiVUlxO_",
        "cellView": "form"
      },
      "source": [
        "#@title **Install dependencies, will take about 10 min**\n",
        "#@markdown It will take a few minutes, please, drink a coffee and wait. ;-)\n",
        "%%capture\n",
        "import sys\n",
        "!pip -q install py3Dmol 2>&1 1>/dev/null\n",
        "!pip install --upgrade MDAnalysis 2>&1 1>/dev/null\n",
        "!pip install git+https://github.com/pablo-arantes/biopandas 2>&1 1>/dev/null\n",
        "!pip install rdkit-pypi\n",
        "!pip install Cython\n",
        "!git clone https://github.com/pablo-arantes/ProLIF.git\n",
        "prolif1 = \"cd /content/ProLIF\"\n",
        "prolif2 = \"sed -i 's/mdanalysis.*/mdanalysis==2.0.0/' setup.cfg\"\n",
        "prolif3 = \"pip install .\"\n",
        "\n",
        "original_stdout = sys.stdout # Save a reference to the original standard output\n",
        "\n",
        "with open('prolif.sh', 'w') as f:\n",
        "    sys.stdout = f # Change the standard output to the file we created.\n",
        "    print(prolif1)\n",
        "    print(prolif2)\n",
        "    print(prolif3)\n",
        "    sys.stdout = original_stdout # Reset the standard output to its original value\n",
        "\n",
        "!chmod 700 prolif.sh 2>&1 1>/dev/null\n",
        "!bash prolif.sh >/dev/null 2>&1\n",
        "\n",
        "# install conda\n",
        "!wget -qnc https://repo.anaconda.com/miniconda/Miniconda3-latest-Linux-x86_64.sh \n",
        "!bash Miniconda3-latest-Linux-x86_64.sh -bfp /usr/local 2>&1 1>/dev/null\n",
        "!rm -r Miniconda3-latest-Linux-x86_64.sh /content/ProLIF prolif.sh\n",
        "!conda install -y -q -c conda-forge openmm=7.6 python=3.7 pdbfixer 2>&1 1>/dev/null\n",
        "!conda install -c conda-forge ambertools --yes 2>&1 1>/dev/null\n",
        "!conda install -c ambermd pytraj  --yes 2>&1 1>/dev/null\n",
        "!conda install -c conda-forge parmed  --yes 2>&1 1>/dev/null\n",
        "!conda install -c conda-forge openff-toolkit --yes 2>&1 1>/dev/null\n",
        "!conda install -c bioconda pybel --yes\n",
        "!conda install -c openbabel openbabel --yes\n",
        "\n",
        "#load dependencies\n",
        "sys.path.append('/usr/local/lib/python3.7/site-packages/')\n",
        "from openmm import app, unit\n",
        "from openmm.app import HBonds, NoCutoff, PDBFile\n",
        "from openff.toolkit.topology import Molecule, Topology\n",
        "from openff.toolkit.typing.engines.smirnoff import ForceField\n",
        "from openff.toolkit.utils import get_data_file_path\n",
        "import parmed as pmd\n",
        "from biopandas.pdb import PandasPdb\n",
        "import openmm as mm\n",
        "from openmm import *\n",
        "from openmm.app import *\n",
        "from openmm.unit import *\n",
        "import os\n",
        "import urllib.request  \n",
        "import numpy as np\n",
        "import MDAnalysis as mda\n",
        "import py3Dmol\n",
        "import pytraj as pt\n",
        "import platform\n",
        "import scipy.cluster.hierarchy\n",
        "from scipy.spatial.distance import squareform\n",
        "import scipy.stats as stats\n",
        "import matplotlib.pyplot as plt\n",
        "import pandas as pd\n",
        "from scipy.interpolate import griddata\n",
        "import seaborn as sb\n",
        "from statistics import mean, stdev\n",
        "from pytraj import matrix\n",
        "from matplotlib import colors\n",
        "from IPython.display import set_matplotlib_formats\n",
        "!wget  https://raw.githubusercontent.com/openforcefield/openff-forcefields/master/openforcefields/offxml/openff_unconstrained-2.0.0.offxml 2>&1 1>/dev/null\n",
        "!wget --no-check-certificate https://sourceforge.net/projects/smina/files/smina.static/download -O smina.static\n",
        "!chmod u+x smina.static\n",
        "#@title Install Pymol\n",
        "!apt-get install pymol 2>&1 1>/dev/null"
      ],
      "execution_count": null,
      "outputs": []
    },
    {
      "cell_type": "markdown",
      "source": [
        "# Yank Installation (Stage 3)"
      ],
      "metadata": {
        "id": "2-4G5DKMwl_g"
      }
    },
    {
      "cell_type": "code",
      "source": [
        "#@title Install yank and dependencies\n",
        "!conda install -c conda-forge openmm --yes 2>&1 1>/dev/null\n",
        "!conda install -c conda-forge openmmtools --yes 2>&1 1>/dev/null\n",
        "!conda install -c conda-forge yank --yes 2>&1 1>/dev/null"
      ],
      "metadata": {
        "id": "uns5L3uOwkVX",
        "cellView": "form"
      },
      "execution_count": null,
      "outputs": []
    },
    {
      "cell_type": "code",
      "source": [
        "#@title Go to working directory\n",
        "%cd .."
      ],
      "metadata": {
        "cellView": "form",
        "id": "Z4Ov2c812gQt"
      },
      "execution_count": null,
      "outputs": []
    },
    {
      "cell_type": "code",
      "source": [
        "%cd /content/drive/MyDrive/yank-examples/examples/binding/t4-lysozyme"
      ],
      "metadata": {
        "id": "MSQK66D5tlwB"
      },
      "execution_count": null,
      "outputs": []
    },
    {
      "cell_type": "markdown",
      "source": [
        "# FEP simulation- Absolute binding free energy of docked Top1 pose (Stage 3)\n"
      ],
      "metadata": {
        "id": "iHcKHeJcKv2v"
      }
    },
    {
      "cell_type": "code",
      "source": [
        "#@title Start FEP simulation\n",
        "!yank script --yaml=implicit-1000_per_iteration_doubled_lambda.yaml"
      ],
      "metadata": {
        "id": "DFNDY4Cp1emy",
        "cellView": "form"
      },
      "execution_count": null,
      "outputs": []
    },
    {
      "cell_type": "code",
      "execution_count": null,
      "metadata": {
        "id": "FjfJJHqP-rDD",
        "cellView": "form"
      },
      "outputs": [],
      "source": [
        "#@title Job control to keep browser from being idle.\n",
        "#while True:pass\n"
      ]
    },
    {
      "cell_type": "markdown",
      "source": [
        "# FEP Analysis (Stage 3)"
      ],
      "metadata": {
        "id": "fHSb4yq328eR"
      }
    },
    {
      "cell_type": "code",
      "execution_count": null,
      "metadata": {
        "id": "t5wic-iZ2sEg"
      },
      "outputs": [],
      "source": [
        "#@title Install Some packages \n",
        "!conda install -c conda-forge pyyaml=5.4 --yes 2>&1 1>/dev/null\n",
        "!conda install -c conda-forge seaborn --yes 2>&1 1>/dev/null\n",
        "!conda install -c conda-forge matplotlib-base --yes 2>&1 1>/dev/null\n",
        "!conda install -c conda-forge jupyter_core --yes 2>&1 1>/dev/null"
      ]
    },
    {
      "cell_type": "code",
      "execution_count": null,
      "metadata": {
        "id": "gL4xpuf8xRmd"
      },
      "outputs": [],
      "source": [
        "#@title ΔG calculation.\n",
        "%cd ./p-xylene-implicit-output/\n",
        "!yank analyze --store=./experiments/"
      ]
    },
    {
      "cell_type": "markdown",
      "source": [
        "# FEP Quality Report (Stage 3)"
      ],
      "metadata": {
        "id": "gSOeJnvYm7Ga"
      }
    },
    {
      "cell_type": "code",
      "source": [
        "!pip install environment_kernels"
      ],
      "metadata": {
        "id": "kV3tgYhVma0s"
      },
      "execution_count": null,
      "outputs": []
    },
    {
      "cell_type": "code",
      "source": [
        "%rm -r ~/.jupyter"
      ],
      "metadata": {
        "id": "TPVqIIZLmldI"
      },
      "execution_count": null,
      "outputs": []
    },
    {
      "cell_type": "code",
      "source": [
        "#@title List a list of package names and version\n",
        "!pip list | grep jupyter | cut -f 1 -d ''|xargs "
      ],
      "metadata": {
        "id": "rKqdASm0m2-i",
        "cellView": "form"
      },
      "execution_count": null,
      "outputs": []
    },
    {
      "cell_type": "code",
      "source": [
        "#@title Install a list of packages with certain version\n",
        "!pip install -U --force-reinstall jupyter==1.0.0  jupyter_client==7.3.5 jupyter-console==6.4.4 jupyter_core==4.11.1 jupyterlab-pygments==0.2.2 jupyterlab-widgets==3.0.3"
      ],
      "metadata": {
        "id": "OnHCUKaC4bUO"
      },
      "execution_count": null,
      "outputs": []
    },
    {
      "cell_type": "code",
      "source": [
        "!jupyter notebook --generate-config"
      ],
      "metadata": {
        "id": "vIlQJYBLm3ED"
      },
      "execution_count": null,
      "outputs": []
    },
    {
      "cell_type": "code",
      "source": [
        "!conda install -c conda-forge google-colab --yes"
      ],
      "metadata": {
        "id": "YfuBLweXmliv"
      },
      "execution_count": null,
      "outputs": []
    },
    {
      "cell_type": "code",
      "source": [
        "!jupyter notebook --config=/usr/local/etc/jupyter/jupyter_notebook_config.json"
      ],
      "metadata": {
        "id": "-7WVNtuqrPk3"
      },
      "execution_count": null,
      "outputs": []
    },
    {
      "cell_type": "code",
      "source": [
        "#@title Write out report\n",
        "!yank analyze report -s ./experiments/ -o fep_quality.html --format=html"
      ],
      "metadata": {
        "id": "ZNC7r-Chrxer",
        "cellView": "form"
      },
      "execution_count": null,
      "outputs": []
    }
  ]
}