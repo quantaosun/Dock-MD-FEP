{
  "cells": [
    {
      "cell_type": "markdown",
      "metadata": {
        "id": "UmECYJa2p1WX"
      },
      "source": [
        "# **Dock-MD-FEP**\n",
        "\n",
        "---\n",
        "Docking, Molecular dynamic(MD), and Free energy perturbation (FEP) are important modelling methods in medicinal chemistry.\n",
        "\n",
        "This Jupyter notebook shows how to run a Three-in-one simulation, i.e., docking, MD and FEP, with freely available GPU(and CPU) from Google Colab.\n",
        "\n",
        "---\n",
        "\n",
        " **This notebook has NOT been thoroughly tested and validated. Use it at your own risk!** \n",
        "\n",
        "--- \n",
        "\n",
        "**This notebook is based on**\n",
        "- The MD simulation is based on [OpenMM](https://openmm.org/) and [Making-it-rain](https://twitter.com/pablitoarantes)\n",
        "\n",
        "- The FEP simulation is based on [Yank](http://getyank.org/latest/)\n",
        "\n",
        "- The docking is based on [Smina](https://sourceforge.net/projects/smina/)\n",
        "\n",
        "\n",
        "- Other open-soured packages like [Open-Sourced-PyMOL](https://anaconda.org/conda-forge/pymol-open-source)/  [OpenBabel](https://github.com/openbabel/openbabel)/ [Rdkit](https://github.com/rdkit/rdkit) etc.\n",
        "\n",
        "- Also, some github example/tutorial repositories,  [Yank example](https://github.com/choderalab/yank-examples) and [A customized yank script](https://github.com/quantaosun/OpenMM-Yank-YAML-template)\n",
        "\n",
        "\n"
      ]
    },
    {
      "cell_type": "code",
      "source": [
        "!pip install -q \"https://github.com/conda-incubator/condacolab/archive/main.zip\"\n",
        "import condacolab\n",
        "condacolab.install()"
      ],
      "metadata": {
        "id": "mv59kFsiVSMZ"
      },
      "execution_count": null,
      "outputs": []
    },
    {
      "cell_type": "markdown",
      "metadata": {
        "id": "2-4G5DKMwl_g",
        "jp-MarkdownHeadingCollapsed": true,
        "tags": []
      },
      "source": [
        "# Yank Installation (Stage 3)"
      ]
    },
    {
      "cell_type": "code",
      "execution_count": null,
      "metadata": {
        "id": "0yR8s9Bp0Na3",
        "jupyter": {
          "source_hidden": true
        }
      },
      "outputs": [],
      "source": [
        "%cd '{Google_Drive_Path}'"
      ]
    },
    {
      "cell_type": "code",
      "execution_count": null,
      "metadata": {
        "id": "uns5L3uOwkVX",
        "jupyter": {
          "source_hidden": true
        }
      },
      "outputs": [],
      "source": [
        "#@title Install yank and dependencies\n",
        "!conda install -c conda-forge openmm --yes 2>&1 1>/dev/null\n",
        "!conda install -c conda-forge openmmtools --yes 2>&1 1>/dev/null\n",
        "!conda install -c conda-forge yank --yes 2>&1 1>/dev/null"
      ]
    },
    {
      "cell_type": "code",
      "execution_count": null,
      "metadata": {
        "cellView": "form",
        "id": "aN-GOJywzo03",
        "jupyter": {
          "source_hidden": true
        }
      },
      "outputs": [],
      "source": [
        "#@title Download an example from github\n",
        "!git clone https://github.com/choderalab/yank-examples.git\n",
        "%cd yank-examples/examples/binding/t4-lysozyme/input"
      ]
    },
    {
      "cell_type": "code",
      "execution_count": null,
      "metadata": {
        "cellView": "form",
        "id": "4BbnbrJ7zyT9",
        "jupyter": {
          "source_hidden": true
        }
      },
      "outputs": [],
      "source": [
        "#@title Modify the sturcture of this example and Remove old ligand, put inside new ligand\n",
        "%%bash\n",
        "cp ../../../../../ligand.mol2 .\n",
        "mv ligand.tripos.mol2 ligand.tripos.mol2.old\n",
        "mv ligand.mol2 ligand.tripos.mol2"
      ]
    },
    {
      "cell_type": "code",
      "execution_count": null,
      "metadata": {
        "cellView": "form",
        "id": "cvGHH4WYzyXM",
        "jupyter": {
          "source_hidden": true
        }
      },
      "outputs": [],
      "source": [
        "#@title Remove old protein, put inside new protein\n",
        "\n",
        "%%bash\n",
        "cp ../../../../../starting_end.pdb .\n",
        "mv receptor.pdbfixer.pdb receptor.pdbfixer.pdb.old \n",
        "mv starting_end.pdb receptor.pdbfixer.pdb"
      ]
    },
    {
      "cell_type": "code",
      "execution_count": null,
      "metadata": {
        "cellView": "form",
        "id": "Z4Ov2c812gQt",
        "jupyter": {
          "source_hidden": true
        }
      },
      "outputs": [],
      "source": [
        "#@title Go to working directory\n",
        "%cd .."
      ]
    },
    {
      "cell_type": "markdown",
      "metadata": {
        "id": "iHcKHeJcKv2v",
        "jp-MarkdownHeadingCollapsed": true,
        "tags": []
      },
      "source": [
        "# FEP simulation- Absolute binding free energy of docked Top1 pose (Stage 3)\n"
      ]
    },
    {
      "cell_type": "code",
      "execution_count": null,
      "metadata": {
        "cellView": "form",
        "id": "Y_9sBQ0g17vY",
        "jupyter": {
          "source_hidden": true
        }
      },
      "outputs": [],
      "source": [
        "#@title Download a modified yaml flie for cloud fep\n",
        "!git clone https://github.com/quantaosun/OpenMM-Yank-YAML-template.git"
      ]
    },
    {
      "cell_type": "code",
      "execution_count": null,
      "metadata": {
        "cellView": "form",
        "id": "VNsGhsoi2NpR",
        "jupyter": {
          "source_hidden": true
        }
      },
      "outputs": [],
      "source": [
        "#@title Copy the modified yaml file to this working path\n",
        "!cp OpenMM-Yank-YAML-template/implicit-1000_per_iteration_doubled_lambda.yaml ."
      ]
    },
    {
      "cell_type": "code",
      "execution_count": null,
      "metadata": {
        "cellView": "form",
        "id": "DFNDY4Cp1emy",
        "jupyter": {
          "source_hidden": true
        }
      },
      "outputs": [],
      "source": [
        "#@title Start FEP simulation\n",
        "!yank script --yaml=implicit-1000_per_iteration_doubled_lambda.yaml"
      ]
    },
    {
      "cell_type": "code",
      "execution_count": null,
      "metadata": {
        "cellView": "form",
        "id": "FjfJJHqP-rDD",
        "jupyter": {
          "source_hidden": true
        }
      },
      "outputs": [],
      "source": [
        "#@title Job control to keep browser from being idle.\n",
        "#while True:pass\n"
      ]
    },
    {
      "cell_type": "markdown",
      "metadata": {
        "id": "fHSb4yq328eR",
        "jp-MarkdownHeadingCollapsed": true,
        "tags": []
      },
      "source": [
        "# FEP Analysis (Stage 3)"
      ]
    },
    {
      "cell_type": "code",
      "execution_count": null,
      "metadata": {
        "cellView": "form",
        "id": "t5wic-iZ2sEg",
        "jupyter": {
          "source_hidden": true
        }
      },
      "outputs": [],
      "source": [
        "#@title Install Some packages \n",
        "!conda install -c conda-forge pyyaml=5.4 --yes 2>&1 1>/dev/null\n",
        "!conda install -c conda-forge seaborn --yes 2>&1 1>/dev/null\n",
        "!conda install -c conda-forge matplotlib-base --yes 2>&1 1>/dev/null\n",
        "!conda install -c conda-forge jupyter_core --yes 2>&1 1>/dev/null"
      ]
    },
    {
      "cell_type": "code",
      "execution_count": null,
      "metadata": {
        "cellView": "form",
        "id": "gL4xpuf8xRmd",
        "jupyter": {
          "source_hidden": true
        }
      },
      "outputs": [],
      "source": [
        "#@title ΔG calculation.\n",
        "%cd ./p-xylene-implicit-output/\n",
        "!yank analyze --store=./experiments/"
      ]
    },
    {
      "cell_type": "markdown",
      "metadata": {
        "id": "gSOeJnvYm7Ga",
        "tags": []
      },
      "source": [
        "# FEP Quality Report (Stage 3)"
      ]
    },
    {
      "cell_type": "code",
      "execution_count": null,
      "metadata": {
        "id": "kV3tgYhVma0s",
        "jupyter": {
          "source_hidden": true
        }
      },
      "outputs": [],
      "source": [
        "!pip install environment_kernels"
      ]
    },
    {
      "cell_type": "code",
      "execution_count": null,
      "metadata": {
        "id": "TPVqIIZLmldI",
        "jupyter": {
          "source_hidden": true
        }
      },
      "outputs": [],
      "source": [
        "%rm -r ~/.jupyter"
      ]
    },
    {
      "cell_type": "code",
      "execution_count": null,
      "metadata": {
        "cellView": "form",
        "id": "rKqdASm0m2-i",
        "jupyter": {
          "source_hidden": true
        }
      },
      "outputs": [],
      "source": [
        "#@title List a list of package names and version\n",
        "!pip list | grep jupyter | cut -f 1 -d ''|xargs "
      ]
    },
    {
      "cell_type": "code",
      "execution_count": null,
      "metadata": {
        "id": "OnHCUKaC4bUO",
        "jupyter": {
          "source_hidden": true
        }
      },
      "outputs": [],
      "source": [
        "#@title Install a list of packages with certain version\n",
        "!pip install -U --force-reinstall jupyter==1.0.0  jupyter_client==7.3.5 jupyter-console==6.4.4 jupyter_core==4.11.1 jupyterlab-pygments==0.2.2 jupyterlab-widgets==3.0.3"
      ]
    },
    {
      "cell_type": "code",
      "execution_count": null,
      "metadata": {
        "id": "vIlQJYBLm3ED",
        "jupyter": {
          "source_hidden": true
        }
      },
      "outputs": [],
      "source": [
        "!jupyter notebook --generate-config"
      ]
    },
    {
      "cell_type": "code",
      "execution_count": null,
      "metadata": {
        "id": "YfuBLweXmliv",
        "jupyter": {
          "source_hidden": true
        }
      },
      "outputs": [],
      "source": [
        "!conda install -c conda-forge google-colab --yes"
      ]
    },
    {
      "cell_type": "code",
      "execution_count": null,
      "metadata": {
        "id": "-7WVNtuqrPk3",
        "jupyter": {
          "source_hidden": true
        }
      },
      "outputs": [],
      "source": [
        "!jupyter notebook --config=/usr/local/etc/jupyter/jupyter_notebook_config.json"
      ]
    },
    {
      "cell_type": "code",
      "execution_count": null,
      "metadata": {
        "cellView": "form",
        "id": "ZNC7r-Chrxer",
        "jupyter": {
          "source_hidden": true
        },
        "tags": []
      },
      "outputs": [],
      "source": [
        "#@title Write out report\n",
        "!yank analyze report -s ./experiments/ -o fep_quality.html --format=html"
      ]
    }
  ],
  "metadata": {
    "accelerator": "GPU",
    "colab": {
      "private_outputs": true,
      "provenance": []
    },
    "kernelspec": {
      "display_name": "Python 3",
      "language": "python",
      "name": "python3"
    },
    "language_info": {
      "codemirror_mode": {
        "name": "ipython",
        "version": 3
      },
      "file_extension": ".py",
      "mimetype": "text/x-python",
      "name": "python",
      "nbconvert_exporter": "python",
      "pygments_lexer": "ipython3",
      "version": "3.8.8"
    }
  },
  "nbformat": 4,
  "nbformat_minor": 0
}